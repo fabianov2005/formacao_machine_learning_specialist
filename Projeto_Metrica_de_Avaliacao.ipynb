{
  "nbformat": 4,
  "nbformat_minor": 0,
  "metadata": {
    "colab": {
      "provenance": [],
      "collapsed_sections": [],
      "toc_visible": true,
      "authorship_tag": "ABX9TyO10FSh0pKNN5Hb19segWdv",
      "include_colab_link": true
    },
    "kernelspec": {
      "name": "python3",
      "display_name": "Python 3"
    },
    "language_info": {
      "name": "python"
    }
  },
  "cells": [
    {
      "cell_type": "markdown",
      "metadata": {
        "id": "view-in-github",
        "colab_type": "text"
      },
      "source": [
        "<a href=\"https://colab.research.google.com/github/fabianov2005/formacao_machine_learning_specialist/blob/main/Projeto_Metrica_de_Avaliacao.ipynb\" target=\"_parent\"><img src=\"https://colab.research.google.com/assets/colab-badge.svg\" alt=\"Open In Colab\"/></a>"
      ]
    },
    {
      "cell_type": "code",
      "source": [
        "!pip install tensorflow"
      ],
      "metadata": {
        "colab": {
          "base_uri": "https://localhost:8080/"
        },
        "id": "VGYdM3hry8nn",
        "outputId": "56dc5e85-5e97-48c3-d5ae-ee67c6fa48f5"
      },
      "execution_count": 1,
      "outputs": [
        {
          "output_type": "stream",
          "name": "stdout",
          "text": [
            "Looking in indexes: https://pypi.org/simple, https://us-python.pkg.dev/colab-wheels/public/simple/\n",
            "Requirement already satisfied: tensorflow in /usr/local/lib/python3.7/dist-packages (2.9.2)\n",
            "Requirement already satisfied: packaging in /usr/local/lib/python3.7/dist-packages (from tensorflow) (21.3)\n",
            "Requirement already satisfied: numpy>=1.20 in /usr/local/lib/python3.7/dist-packages (from tensorflow) (1.21.6)\n",
            "Requirement already satisfied: astunparse>=1.6.0 in /usr/local/lib/python3.7/dist-packages (from tensorflow) (1.6.3)\n",
            "Requirement already satisfied: opt-einsum>=2.3.2 in /usr/local/lib/python3.7/dist-packages (from tensorflow) (3.3.0)\n",
            "Requirement already satisfied: libclang>=13.0.0 in /usr/local/lib/python3.7/dist-packages (from tensorflow) (14.0.6)\n",
            "Requirement already satisfied: tensorflow-io-gcs-filesystem>=0.23.1 in /usr/local/lib/python3.7/dist-packages (from tensorflow) (0.27.0)\n",
            "Requirement already satisfied: gast<=0.4.0,>=0.2.1 in /usr/local/lib/python3.7/dist-packages (from tensorflow) (0.4.0)\n",
            "Requirement already satisfied: tensorboard<2.10,>=2.9 in /usr/local/lib/python3.7/dist-packages (from tensorflow) (2.9.1)\n",
            "Requirement already satisfied: wrapt>=1.11.0 in /usr/local/lib/python3.7/dist-packages (from tensorflow) (1.14.1)\n",
            "Requirement already satisfied: setuptools in /usr/local/lib/python3.7/dist-packages (from tensorflow) (57.4.0)\n",
            "Requirement already satisfied: typing-extensions>=3.6.6 in /usr/local/lib/python3.7/dist-packages (from tensorflow) (4.1.1)\n",
            "Requirement already satisfied: keras<2.10.0,>=2.9.0rc0 in /usr/local/lib/python3.7/dist-packages (from tensorflow) (2.9.0)\n",
            "Requirement already satisfied: six>=1.12.0 in /usr/local/lib/python3.7/dist-packages (from tensorflow) (1.15.0)\n",
            "Requirement already satisfied: google-pasta>=0.1.1 in /usr/local/lib/python3.7/dist-packages (from tensorflow) (0.2.0)\n",
            "Requirement already satisfied: grpcio<2.0,>=1.24.3 in /usr/local/lib/python3.7/dist-packages (from tensorflow) (1.49.1)\n",
            "Requirement already satisfied: protobuf<3.20,>=3.9.2 in /usr/local/lib/python3.7/dist-packages (from tensorflow) (3.17.3)\n",
            "Requirement already satisfied: termcolor>=1.1.0 in /usr/local/lib/python3.7/dist-packages (from tensorflow) (2.0.1)\n",
            "Requirement already satisfied: keras-preprocessing>=1.1.1 in /usr/local/lib/python3.7/dist-packages (from tensorflow) (1.1.2)\n",
            "Requirement already satisfied: h5py>=2.9.0 in /usr/local/lib/python3.7/dist-packages (from tensorflow) (3.1.0)\n",
            "Requirement already satisfied: absl-py>=1.0.0 in /usr/local/lib/python3.7/dist-packages (from tensorflow) (1.2.0)\n",
            "Requirement already satisfied: tensorflow-estimator<2.10.0,>=2.9.0rc0 in /usr/local/lib/python3.7/dist-packages (from tensorflow) (2.9.0)\n",
            "Requirement already satisfied: flatbuffers<2,>=1.12 in /usr/local/lib/python3.7/dist-packages (from tensorflow) (1.12)\n",
            "Requirement already satisfied: wheel<1.0,>=0.23.0 in /usr/local/lib/python3.7/dist-packages (from astunparse>=1.6.0->tensorflow) (0.37.1)\n",
            "Requirement already satisfied: cached-property in /usr/local/lib/python3.7/dist-packages (from h5py>=2.9.0->tensorflow) (1.5.2)\n",
            "Requirement already satisfied: google-auth-oauthlib<0.5,>=0.4.1 in /usr/local/lib/python3.7/dist-packages (from tensorboard<2.10,>=2.9->tensorflow) (0.4.6)\n",
            "Requirement already satisfied: markdown>=2.6.8 in /usr/local/lib/python3.7/dist-packages (from tensorboard<2.10,>=2.9->tensorflow) (3.4.1)\n",
            "Requirement already satisfied: requests<3,>=2.21.0 in /usr/local/lib/python3.7/dist-packages (from tensorboard<2.10,>=2.9->tensorflow) (2.23.0)\n",
            "Requirement already satisfied: tensorboard-plugin-wit>=1.6.0 in /usr/local/lib/python3.7/dist-packages (from tensorboard<2.10,>=2.9->tensorflow) (1.8.1)\n",
            "Requirement already satisfied: werkzeug>=1.0.1 in /usr/local/lib/python3.7/dist-packages (from tensorboard<2.10,>=2.9->tensorflow) (1.0.1)\n",
            "Requirement already satisfied: tensorboard-data-server<0.7.0,>=0.6.0 in /usr/local/lib/python3.7/dist-packages (from tensorboard<2.10,>=2.9->tensorflow) (0.6.1)\n",
            "Requirement already satisfied: google-auth<3,>=1.6.3 in /usr/local/lib/python3.7/dist-packages (from tensorboard<2.10,>=2.9->tensorflow) (1.35.0)\n",
            "Requirement already satisfied: cachetools<5.0,>=2.0.0 in /usr/local/lib/python3.7/dist-packages (from google-auth<3,>=1.6.3->tensorboard<2.10,>=2.9->tensorflow) (4.2.4)\n",
            "Requirement already satisfied: rsa<5,>=3.1.4 in /usr/local/lib/python3.7/dist-packages (from google-auth<3,>=1.6.3->tensorboard<2.10,>=2.9->tensorflow) (4.9)\n",
            "Requirement already satisfied: pyasn1-modules>=0.2.1 in /usr/local/lib/python3.7/dist-packages (from google-auth<3,>=1.6.3->tensorboard<2.10,>=2.9->tensorflow) (0.2.8)\n",
            "Requirement already satisfied: requests-oauthlib>=0.7.0 in /usr/local/lib/python3.7/dist-packages (from google-auth-oauthlib<0.5,>=0.4.1->tensorboard<2.10,>=2.9->tensorflow) (1.3.1)\n",
            "Requirement already satisfied: importlib-metadata>=4.4 in /usr/local/lib/python3.7/dist-packages (from markdown>=2.6.8->tensorboard<2.10,>=2.9->tensorflow) (5.0.0)\n",
            "Requirement already satisfied: zipp>=0.5 in /usr/local/lib/python3.7/dist-packages (from importlib-metadata>=4.4->markdown>=2.6.8->tensorboard<2.10,>=2.9->tensorflow) (3.9.0)\n",
            "Requirement already satisfied: pyasn1<0.5.0,>=0.4.6 in /usr/local/lib/python3.7/dist-packages (from pyasn1-modules>=0.2.1->google-auth<3,>=1.6.3->tensorboard<2.10,>=2.9->tensorflow) (0.4.8)\n",
            "Requirement already satisfied: chardet<4,>=3.0.2 in /usr/local/lib/python3.7/dist-packages (from requests<3,>=2.21.0->tensorboard<2.10,>=2.9->tensorflow) (3.0.4)\n",
            "Requirement already satisfied: idna<3,>=2.5 in /usr/local/lib/python3.7/dist-packages (from requests<3,>=2.21.0->tensorboard<2.10,>=2.9->tensorflow) (2.10)\n",
            "Requirement already satisfied: certifi>=2017.4.17 in /usr/local/lib/python3.7/dist-packages (from requests<3,>=2.21.0->tensorboard<2.10,>=2.9->tensorflow) (2022.9.24)\n",
            "Requirement already satisfied: urllib3!=1.25.0,!=1.25.1,<1.26,>=1.21.1 in /usr/local/lib/python3.7/dist-packages (from requests<3,>=2.21.0->tensorboard<2.10,>=2.9->tensorflow) (1.24.3)\n",
            "Requirement already satisfied: oauthlib>=3.0.0 in /usr/local/lib/python3.7/dist-packages (from requests-oauthlib>=0.7.0->google-auth-oauthlib<0.5,>=0.4.1->tensorboard<2.10,>=2.9->tensorflow) (3.2.1)\n",
            "Requirement already satisfied: pyparsing!=3.0.5,>=2.0.2 in /usr/local/lib/python3.7/dist-packages (from packaging->tensorflow) (3.0.9)\n"
          ]
        }
      ]
    },
    {
      "cell_type": "code",
      "source": [
        "!pip install webcolors"
      ],
      "metadata": {
        "colab": {
          "base_uri": "https://localhost:8080/"
        },
        "id": "a8m4Bn7Cr6YJ",
        "outputId": "2833a370-35b1-4ef5-bce1-be0d84af7622"
      },
      "execution_count": 38,
      "outputs": [
        {
          "output_type": "stream",
          "name": "stdout",
          "text": [
            "Looking in indexes: https://pypi.org/simple, https://us-python.pkg.dev/colab-wheels/public/simple/\n",
            "Collecting webcolors\n",
            "  Downloading webcolors-1.12-py3-none-any.whl (9.9 kB)\n",
            "Installing collected packages: webcolors\n",
            "Successfully installed webcolors-1.12\n"
          ]
        }
      ]
    },
    {
      "cell_type": "code",
      "source": [
        "# def gera_plot():\n",
        "#   plt.figure(1)\n",
        "#   plt.plot([0, 1], [0, 1], 'k--')\n",
        "#   plt.plot(fpr_keras, tpr_keras, label='Keras (area = {:.3f})'.format(auc_keras))\n",
        "#   plt.plot(fpr_rf, tpr_rf, label='RF (area = {:.3f})'.format(auc_rf))\n",
        "#   plt.xlabel('False positive rate')\n",
        "#   plt.ylabel('True positive rate')\n",
        "#   plt.title('ROC curve')\n",
        "#   plt.legend(loc='best')\n",
        "#   plt.show()\n",
        "#   # Zoom in view of the upper left corner.\n",
        "#   plt.figure(2)\n",
        "#   plt.xlim(0, 0.2)\n",
        "#   plt.ylim(0.8, 1)\n",
        "#   plt.plot([0, 1], [0, 1], 'k--')\n",
        "#   plt.plot(fpr_keras, tpr_keras, label='Keras (area = {:.3f})'.format(auc_keras))\n",
        "#   plt.plot(fpr_rf, tpr_rf, label='RF (area = {:.3f})'.format(auc_rf))\n",
        "#   plt.xlabel('False positive rate')\n",
        "#   plt.ylabel('True positive rate')\n",
        "#   plt.title('ROC curve (zoomed in at top left)')\n",
        "#   plt.legend(loc='best')\n",
        "#   plt.show()"
      ],
      "metadata": {
        "id": "iFW9jwxBJt-n"
      },
      "execution_count": null,
      "outputs": []
    },
    {
      "cell_type": "code",
      "source": [
        "!pip install tensorflow_addons"
      ],
      "metadata": {
        "colab": {
          "base_uri": "https://localhost:8080/"
        },
        "id": "OjjKrju6_A2-",
        "outputId": "90c54618-208b-4c2c-d03b-5a9327c7b64d"
      },
      "execution_count": 2,
      "outputs": [
        {
          "output_type": "stream",
          "name": "stdout",
          "text": [
            "Looking in indexes: https://pypi.org/simple, https://us-python.pkg.dev/colab-wheels/public/simple/\n",
            "Collecting tensorflow_addons\n",
            "  Downloading tensorflow_addons-0.18.0-cp37-cp37m-manylinux_2_17_x86_64.manylinux2014_x86_64.whl (1.1 MB)\n",
            "\u001b[K     |████████████████████████████████| 1.1 MB 10.2 MB/s \n",
            "\u001b[?25hRequirement already satisfied: typeguard>=2.7 in /usr/local/lib/python3.7/dist-packages (from tensorflow_addons) (2.7.1)\n",
            "Requirement already satisfied: packaging in /usr/local/lib/python3.7/dist-packages (from tensorflow_addons) (21.3)\n",
            "Requirement already satisfied: pyparsing!=3.0.5,>=2.0.2 in /usr/local/lib/python3.7/dist-packages (from packaging->tensorflow_addons) (3.0.9)\n",
            "Installing collected packages: tensorflow-addons\n",
            "Successfully installed tensorflow-addons-0.18.0\n"
          ]
        }
      ]
    },
    {
      "cell_type": "code",
      "execution_count": 3,
      "metadata": {
        "id": "Iss6XHpush7h",
        "colab": {
          "base_uri": "https://localhost:8080/"
        },
        "outputId": "b67e36c6-cc46-425b-8b83-b7002bf8a315"
      },
      "outputs": [
        {
          "output_type": "stream",
          "name": "stdout",
          "text": [
            "Downloading data from https://storage.googleapis.com/tensorflow/tf-keras-datasets/mnist.npz\n",
            "11490434/11490434 [==============================] - 0s 0us/step\n"
          ]
        }
      ],
      "source": [
        "from tensorflow import keras\n",
        "from keras import datasets, layers, models;\n",
        "import matplotlib.pyplot as plt;\n",
        "import tensorflow as tf;\n",
        "import numpy as np;\n",
        "import pandas as pd;\n",
        "import seaborn as sb;\n",
        "\n",
        "(train_images, train_labels), (test_images, test_labels) = datasets.mnist.load_data();\n",
        "\n",
        "train_images = train_images.reshape(60000,28,28,1);\n",
        "test_images = test_images.reshape(10000,28,28,1);\n",
        "\n",
        "train_images, test_images = train_images/255, test_images/255"
      ]
    },
    {
      "cell_type": "code",
      "source": [
        "test_images.shape"
      ],
      "metadata": {
        "colab": {
          "base_uri": "https://localhost:8080/"
        },
        "id": "niECAv-C4o9I",
        "outputId": "9e762b08-5110-434b-b4bd-69c3a8e84c78"
      },
      "execution_count": 4,
      "outputs": [
        {
          "output_type": "execute_result",
          "data": {
            "text/plain": [
              "(10000, 28, 28, 1)"
            ]
          },
          "metadata": {},
          "execution_count": 4
        }
      ]
    },
    {
      "cell_type": "code",
      "source": [
        "test_labels.shape"
      ],
      "metadata": {
        "colab": {
          "base_uri": "https://localhost:8080/"
        },
        "id": "eZyy8bfF4wPG",
        "outputId": "20ccdbe4-afce-4a98-87fe-89280c3a3012"
      },
      "execution_count": 5,
      "outputs": [
        {
          "output_type": "execute_result",
          "data": {
            "text/plain": [
              "(10000,)"
            ]
          },
          "metadata": {},
          "execution_count": 5
        }
      ]
    },
    {
      "cell_type": "code",
      "source": [
        "print(tf.__version__)\n",
        "classes = [0,1,2,3,4,5,6,7,8,9]"
      ],
      "metadata": {
        "colab": {
          "base_uri": "https://localhost:8080/"
        },
        "id": "mDpmrlAUyY1Q",
        "outputId": "f91838ce-6e66-4c45-b204-db8a3c24c032"
      },
      "execution_count": 6,
      "outputs": [
        {
          "output_type": "stream",
          "name": "stdout",
          "text": [
            "2.9.2\n"
          ]
        }
      ]
    },
    {
      "cell_type": "code",
      "source": [
        "convolutional_neural_network=models.Sequential([layers.Conv2D(filters=32,kernel_size=(3,3),activation='relu',input_shape=(28,28,1)),\n",
        "                                                layers.MaxPooling2D((2,2)),\n",
        "                                                layers.Conv2D(filters=64,kernel_size=(3,3),activation='relu'),\n",
        "                                                layers.MaxPooling2D((2,2)),\n",
        "                                                layers.Conv2D(filters=64,kernel_size=(3,3),activation='relu'),\n",
        "                                                layers.Flatten(),\n",
        "                                                layers.Dense(64,activation='relu'),\n",
        "                                                layers.Dense(10,activation='softmax')])"
      ],
      "metadata": {
        "id": "ZQ0E84uLzrGb"
      },
      "execution_count": 7,
      "outputs": []
    },
    {
      "cell_type": "code",
      "source": [
        "pt = keras.optimizers.Adam(learning_rate=0.01)\n",
        "convolutional_neural_network.compile(optimizer=pt, loss=\"sparse_categorical_crossentropy\", \n",
        "                                     metrics=[\"accuracy\"])"
      ],
      "metadata": {
        "id": "sh1sKtVX6tfr"
      },
      "execution_count": 8,
      "outputs": []
    },
    {
      "cell_type": "code",
      "source": [
        "model = convolutional_neural_network.fit(x = train_images,\n",
        "                                         y= train_labels,\n",
        "                                         epochs=5,\n",
        "                                         validation_data=(test_images, test_labels));\n"
      ],
      "metadata": {
        "colab": {
          "base_uri": "https://localhost:8080/"
        },
        "id": "TlbK1czF7a9C",
        "outputId": "eeee48cb-1194-413d-b6c3-b9e2dd7b1385"
      },
      "execution_count": 9,
      "outputs": [
        {
          "output_type": "stream",
          "name": "stdout",
          "text": [
            "Epoch 1/5\n",
            "1875/1875 [==============================] - 44s 23ms/step - loss: 0.1647 - accuracy: 0.9503 - val_loss: 0.1195 - val_accuracy: 0.9693\n",
            "Epoch 2/5\n",
            "1875/1875 [==============================] - 45s 24ms/step - loss: 0.1101 - accuracy: 0.9702 - val_loss: 0.0946 - val_accuracy: 0.9739\n",
            "Epoch 3/5\n",
            "1875/1875 [==============================] - 45s 24ms/step - loss: 0.1041 - accuracy: 0.9733 - val_loss: 0.1079 - val_accuracy: 0.9709\n",
            "Epoch 4/5\n",
            "1875/1875 [==============================] - 45s 24ms/step - loss: 0.0999 - accuracy: 0.9753 - val_loss: 0.0869 - val_accuracy: 0.9803\n",
            "Epoch 5/5\n",
            "1875/1875 [==============================] - 47s 25ms/step - loss: 0.0990 - accuracy: 0.9759 - val_loss: 0.0856 - val_accuracy: 0.9810\n"
          ]
        }
      ]
    },
    {
      "cell_type": "code",
      "source": [
        "y_true = test_labels;\n",
        "y_pred = convolutional_neural_network.predict(test_images);"
      ],
      "metadata": {
        "id": "oaz4ojgxNRz0",
        "colab": {
          "base_uri": "https://localhost:8080/"
        },
        "outputId": "7c8c5ce2-335f-4338-f6be-d537bad3a40f"
      },
      "execution_count": 11,
      "outputs": [
        {
          "output_type": "stream",
          "name": "stdout",
          "text": [
            "313/313 [==============================] - 3s 8ms/step\n"
          ]
        }
      ]
    },
    {
      "cell_type": "code",
      "source": [
        "y_true.shape"
      ],
      "metadata": {
        "colab": {
          "base_uri": "https://localhost:8080/"
        },
        "id": "4VEsJv6d4aE9",
        "outputId": "f412cc62-21b3-4928-c85e-b673b8ed120c"
      },
      "execution_count": 12,
      "outputs": [
        {
          "output_type": "execute_result",
          "data": {
            "text/plain": [
              "(10000,)"
            ]
          },
          "metadata": {},
          "execution_count": 12
        }
      ]
    },
    {
      "cell_type": "code",
      "source": [
        "pred = tf.math.argmax(y_pred, axis = -1)\n",
        "pred.shape"
      ],
      "metadata": {
        "colab": {
          "base_uri": "https://localhost:8080/"
        },
        "id": "qT7glZWo4fz7",
        "outputId": "9835ee1a-73f6-425f-e58b-c0e3e18121d8"
      },
      "execution_count": 13,
      "outputs": [
        {
          "output_type": "execute_result",
          "data": {
            "text/plain": [
              "TensorShape([10000])"
            ]
          },
          "metadata": {},
          "execution_count": 13
        }
      ]
    },
    {
      "cell_type": "code",
      "source": [
        "con_mat = tf.math.confusion_matrix(labels=y_true, predictions=pred).numpy();"
      ],
      "metadata": {
        "id": "CGz25fj4xgZN"
      },
      "execution_count": 14,
      "outputs": []
    },
    {
      "cell_type": "code",
      "source": [
        "con_mat_norm = np.around(con_mat.astype('float')/con_mat.sum(axis=1)[:np.newaxis], decimals=2)"
      ],
      "metadata": {
        "id": "LrseYRuSzZcW"
      },
      "execution_count": 15,
      "outputs": []
    },
    {
      "cell_type": "code",
      "source": [
        "con_mat_norm"
      ],
      "metadata": {
        "colab": {
          "base_uri": "https://localhost:8080/"
        },
        "id": "7HL1Qte40QAx",
        "outputId": "87563df9-e515-47b6-e34b-b1fa5afc1776"
      },
      "execution_count": 16,
      "outputs": [
        {
          "output_type": "execute_result",
          "data": {
            "text/plain": [
              "array([[0.99, 0.  , 0.  , 0.  , 0.  , 0.  , 0.  , 0.  , 0.  , 0.  ],\n",
              "       [0.  , 0.99, 0.  , 0.  , 0.  , 0.  , 0.  , 0.  , 0.  , 0.  ],\n",
              "       [0.  , 0.  , 0.99, 0.  , 0.  , 0.  , 0.  , 0.01, 0.  , 0.  ],\n",
              "       [0.  , 0.  , 0.  , 0.99, 0.  , 0.  , 0.  , 0.  , 0.01, 0.  ],\n",
              "       [0.  , 0.  , 0.  , 0.  , 0.97, 0.  , 0.01, 0.  , 0.  , 0.02],\n",
              "       [0.  , 0.  , 0.  , 0.01, 0.  , 0.96, 0.  , 0.  , 0.01, 0.01],\n",
              "       [0.  , 0.  , 0.  , 0.  , 0.  , 0.  , 0.99, 0.  , 0.  , 0.  ],\n",
              "       [0.  , 0.  , 0.  , 0.  , 0.  , 0.  , 0.  , 0.98, 0.  , 0.01],\n",
              "       [0.  , 0.  , 0.  , 0.  , 0.  , 0.01, 0.01, 0.  , 0.97, 0.01],\n",
              "       [0.  , 0.  , 0.  , 0.  , 0.  , 0.  , 0.  , 0.01, 0.  , 0.98]])"
            ]
          },
          "metadata": {},
          "execution_count": 16
        }
      ]
    },
    {
      "cell_type": "code",
      "source": [
        "con_mat_df = pd.DataFrame(con_mat_norm, index = classes , columns = classes)"
      ],
      "metadata": {
        "id": "szu8V5WE0VI1"
      },
      "execution_count": 17,
      "outputs": []
    },
    {
      "cell_type": "code",
      "source": [
        "figure = plt.figure(figsize=(8,8))\n",
        "sb.heatmap(con_mat_df, annot=True,cmap=plt.cm.Blues)\n",
        "plt.tight_layout()\n",
        "plt.ylabel('True Label')\n",
        "plt.xlabel('Predict Label')\n",
        "plt.show()"
      ],
      "metadata": {
        "colab": {
          "base_uri": "https://localhost:8080/",
          "height": 598
        },
        "id": "g0h5JlTC01I0",
        "outputId": "e09e2071-c8f5-4201-af0f-44c6585d0c2d"
      },
      "execution_count": 18,
      "outputs": [
        {
          "output_type": "display_data",
          "data": {
            "text/plain": [
              "<Figure size 576x576 with 2 Axes>"
            ],
            "image/png": "[encoded data removed]"
          },
          "metadata": {
            "needs_background": "light"
          }
        }
      ]
    },
    {
      "cell_type": "code",
      "source": [
        "FP = con_mat_norm.sum(axis=0) - np.diag(con_mat_norm)\n",
        "FN = con_mat_norm.sum(axis=1) - np.diag(con_mat_norm) \n",
        "VP = np.diag(con_mat_norm) \n",
        "VN = con_mat_norm.sum() - (FP + FN + VP)\n",
        "\n",
        "#Sensibilidade\n",
        "S = VP/(VP+FN) \n",
        "print('Sensibilidade: ', S)\n",
        "\n",
        "#Especificidade\n",
        "E = VN/(VN+FP) \n",
        "print('Especificidade: ', E)\n",
        "\n",
        "#Precisão\n",
        "P = VP/(VP+FP) \n",
        "print('Precisão: ', P)\n",
        "\n",
        "#F1 Score\n",
        "F1 = 2 * (P * S)/(P + S) \n",
        "print('F1 Score: ', F1)\n",
        "\n",
        "#Acurária\n",
        "ACC = (VP+VN)/(VP+FP+FN+VN) \n",
        "print('Acurária: ', ACC)"
      ],
      "metadata": {
        "colab": {
          "base_uri": "https://localhost:8080/"
        },
        "id": "0AZDSPXCM-x1",
        "outputId": "305fa316-f072-41c6-af63-4c234687708d"
      },
      "execution_count": 19,
      "outputs": [
        {
          "output_type": "stream",
          "name": "stdout",
          "text": [
            "Sensibilidade:  [1.         1.         0.99       0.99       0.97       0.96969697\n",
            " 1.         0.98989899 0.97       0.98989899]\n",
            "Especificidade:  [1.         1.         1.         0.99888143 1.         0.99888268\n",
            " 0.99776536 0.99776536 0.99776286 0.99441341]\n",
            "Precisão:  [1.         1.         1.         0.99       1.         0.98969072\n",
            " 0.98019802 0.98       0.97979798 0.95145631]\n",
            "F1 Score:  [1.         1.         0.99497487 0.99       0.98477157 0.97959184\n",
            " 0.99       0.98492462 0.97487437 0.97029703]\n",
            "Acurária:  [1.         1.         0.99899396 0.99798793 0.99698189 0.99597586\n",
            " 0.99798793 0.99698189 0.99496982 0.99396378]\n"
          ]
        }
      ]
    },
    {
      "cell_type": "code",
      "source": [
        "cores = ['black','blue','yellow','green','indigo','brown','red','cyan','gray','orange']"
      ],
      "metadata": {
        "id": "am7b2rLNm9u9"
      },
      "execution_count": 124,
      "outputs": []
    },
    {
      "cell_type": "code",
      "source": [
        "from sklearn.metrics import roc_curve, roc_auc_score\n",
        "\n",
        "n_class = 10\n",
        "fpr = {}\n",
        "tpr = {}\n",
        "auc = {}\n",
        "thresh ={}\n",
        "\n",
        "for i in range(n_class):    \n",
        "    fpr[i], tpr[i], thresh[i] = roc_curve(y_true, pred[::1], pos_label=i)\n",
        "\n",
        "print(fpr)   \n",
        "    \n",
        "# plotting    \n",
        "for i in range(n_class):\n",
        "  color = list(np.random.choice(range(256), size=3))  \n",
        "  plt.plot(fpr[i], tpr[i], linestyle='-',color=cores[i-1], label='Classe {}'.format(i))\n",
        "\n",
        "plt.title('Multiclass ROC curve')\n",
        "plt.xlabel('False Positive Rate')\n",
        "plt.ylabel('True Positive rate')\n",
        "plt.legend(loc='best')\n",
        "plt.show()\n",
        "plt.savefig('Multiclass ROC',dpi=600); "
      ],
      "metadata": {
        "colab": {
          "base_uri": "https://localhost:8080/",
          "height": 680
        },
        "id": "GubI0zXWIEK3",
        "outputId": "771b8685-28e9-4ea7-8874-b28fc4c72454"
      },
      "execution_count": 125,
      "outputs": [
        {
          "output_type": "stream",
          "name": "stdout",
          "text": [
            "{0: array([0.        , 0.11485588, 0.22239468, 0.33747228, 0.44467849,\n",
            "       0.54168514, 0.64722838, 0.7594235 , 0.87372506, 0.99855876,\n",
            "       1.        ]), 1: array([0.        , 0.11697688, 0.22628314, 0.34326001, 0.45256627,\n",
            "       0.55115623, 0.65843204, 0.77258883, 0.88843768, 0.8891145 ,\n",
            "       1.        ]), 2: array([0.        , 0.11563336, 0.22368421, 0.33887154, 0.44681088,\n",
            "       0.54438002, 0.65042373, 0.7632694 , 0.764719  , 0.89016503,\n",
            "       1.        ]), 3: array([0.        , 0.11523915, 0.22269188, 0.33826474, 0.4461624 ,\n",
            "       0.54304783, 0.64894327, 0.65061179, 0.7650723 , 0.89032258,\n",
            "       1.        ]), 4: array([0.        , 0.11266356, 0.22022621, 0.33521845, 0.44211577,\n",
            "       0.53914393, 0.5394766 , 0.65169661, 0.76591262, 0.89077401,\n",
            "       1.        ]), 5: array([0.        , 0.11231884, 0.21826965, 0.33234519, 0.4384058 ,\n",
            "       0.44027229, 0.54479578, 0.65502855, 0.76822574, 0.89185332,\n",
            "       1.        ]), 6: array([0.        , 0.11468702, 0.22174298, 0.33676178, 0.33930546,\n",
            "       0.43563371, 0.54092015, 0.65284229, 0.76686574, 0.89117452,\n",
            "       1.        ]), 7: array([0.        , 0.11491306, 0.22291574, 0.22603656, 0.33415069,\n",
            "       0.43167633, 0.53778422, 0.65046812, 0.76515827, 0.89032546,\n",
            "       1.        ]), 8: array([0.        , 0.11422557, 0.11677376, 0.23177487, 0.33857744,\n",
            "       0.43496565, 0.54043873, 0.65244848, 0.76623089, 0.89098161,\n",
            "       1.        ]), 9: array([0.        , 0.00544989, 0.11333556, 0.22800578, 0.33578022,\n",
            "       0.4327661 , 0.53853854, 0.65053943, 0.76520965, 0.890446  ,\n",
            "       1.        ])}\n"
          ]
        },
        {
          "output_type": "display_data",
          "data": {
            "text/plain": [
              "<Figure size 432x288 with 1 Axes>"
            ],
            "image/png": "[encoded data removed]"
          },
          "metadata": {
            "needs_background": "light"
          }
        },
        {
          "output_type": "display_data",
          "data": {
            "text/plain": [
              "<Figure size 432x288 with 0 Axes>"
            ]
          },
          "metadata": {}
        }
      ]
    }
  ]
}